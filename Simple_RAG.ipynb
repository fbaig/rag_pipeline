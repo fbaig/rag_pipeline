{
 "cells": [
  {
   "cell_type": "code",
   "execution_count": null,
   "id": "5b88c1d9-3935-4b68-8895-d7cf29c1f36f",
   "metadata": {
    "scrolled": true
   },
   "outputs": [],
   "source": [
    "!pip install --quiet --upgrade langchain-text-splitters langchain-community langchain-openai"
   ]
  },
  {
   "cell_type": "code",
   "execution_count": null,
   "id": "a0782a62-b12c-4ebc-946b-6a481f368492",
   "metadata": {},
   "outputs": [],
   "source": [
    "import getpass\n",
    "import os\n",
    "if not os.environ.get(\"OPENAI_API_KEY\"):\n",
    "  os.environ[\"OPENAI_API_KEY\"] = getpass.getpass(\"Enter API key for OpenAI: \")"
   ]
  },
  {
   "cell_type": "code",
   "execution_count": null,
   "id": "d5471fe5-1149-4836-8075-f10e50bbf9d6",
   "metadata": {},
   "outputs": [],
   "source": [
    "# Load PDF\n",
    "!pip install --quiet pypdf\n",
    "\n",
    "from langchain_community.document_loaders import PyPDFLoader\n",
    "file_path = '/home/jovyan/Langchain/CyberGIS_Cloud_PEARC22-3.pdf'\n",
    "loader = PyPDFLoader(file_path)\n",
    "\n",
    "docs = loader.load()"
   ]
  },
  {
   "cell_type": "code",
   "execution_count": null,
   "id": "5e22e189-1b59-4cb3-baad-92f4189030b3",
   "metadata": {
    "scrolled": true
   },
   "outputs": [],
   "source": [
    "# Load HTML web page\n",
    "import bs4\n",
    "from langchain_community.document_loaders import WebBaseLoader\n",
    "from langchain_core.vectorstores import InMemoryVectorStore\n",
    "from langchain_core.documents import Document\n",
    "from langchain_text_splitters import RecursiveCharacterTextSplitter\n",
    "from typing_extensions import List, TypedDict\n",
    "from langchain_openai import OpenAIEmbeddings\n",
    "#from langchain_core.embeddings import DeterministicFakeEmbedding\n",
    "\n",
    "# https://lilianweng.github.io/posts/2023-06-23-agent/\n",
    "web_source = 'https://i-guide.io/about-i-guide/'\n",
    "\n",
    "# Load and chunk contents of the blog\n",
    "loader = WebBaseLoader(\n",
    "    web_paths=(web_source,),\n",
    "    bs_kwargs=dict(\n",
    "        parse_only=bs4.SoupStrainer(\n",
    "            class_=(\"post-content\", \"post-title\", \"post-header\")\n",
    "        )\n",
    "    ),\n",
    ")\n",
    "docs = loader.load()"
   ]
  },
  {
   "cell_type": "code",
   "execution_count": null,
   "id": "8db0e8f1-92ba-493f-a6ca-e48cf9cddeae",
   "metadata": {},
   "outputs": [],
   "source": [
    "# Index documents\n",
    "text_splitter = RecursiveCharacterTextSplitter(chunk_size=1000, chunk_overlap=200)\n",
    "all_splits = text_splitter.split_documents(docs)\n",
    "\n",
    "embeddings = OpenAIEmbeddings(model=\"text-embedding-3-large\")\n",
    "#embeddings = DeterministicFakeEmbedding(size=4096)\n",
    "\n",
    "# Index chunks\n",
    "vector_store = InMemoryVectorStore(embeddings)\n",
    "_ = vector_store.add_documents(documents=all_splits)"
   ]
  },
  {
   "cell_type": "code",
   "execution_count": null,
   "id": "622689a5-64fc-4060-8b82-0145f8a61b0a",
   "metadata": {},
   "outputs": [],
   "source": [
    "from langchain import hub\n",
    "from langchain.chat_models import init_chat_model\n",
    "\n",
    "# Define prompt for question-answering\n",
    "prompt = hub.pull(\"rlm/rag-prompt\")\n",
    "llm = init_chat_model(\"gpt-4.1-nano\", model_provider=\"openai\")"
   ]
  },
  {
   "cell_type": "code",
   "execution_count": null,
   "id": "70b6eeca-5fed-49fb-bfeb-7f8dd97fff81",
   "metadata": {},
   "outputs": [],
   "source": [
    "#question = 'What is Task Decomposition?'\n",
    "question = 'What is this paper about?'\n",
    "\n",
    "retrieved_docs = vector_store.similarity_search(question)\n",
    "docs_content = \"\\n\\n\".join(doc.page_content for doc in retrieved_docs)\n",
    "prompt = prompt.invoke({\"question\": question, \"context\": docs_content})\n",
    "answer = llm.invoke(prompt)"
   ]
  },
  {
   "cell_type": "code",
   "execution_count": null,
   "id": "68743c5f-429c-4be5-a58a-5680c3b9a8c8",
   "metadata": {},
   "outputs": [],
   "source": [
    "answer.content\n",
    "#answer"
   ]
  }
 ],
 "metadata": {
  "kernelspec": {
   "display_name": "Python 3",
   "language": "python",
   "name": "python3"
  },
  "language_info": {
   "codemirror_mode": {
    "name": "ipython",
    "version": 3
   },
   "file_extension": ".py",
   "mimetype": "text/x-python",
   "name": "python",
   "nbconvert_exporter": "python",
   "pygments_lexer": "ipython3",
   "version": "3.8.12"
  }
 },
 "nbformat": 4,
 "nbformat_minor": 5
}
